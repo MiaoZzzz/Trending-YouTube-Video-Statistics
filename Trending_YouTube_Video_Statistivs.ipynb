{
 "cells": [
  {
   "cell_type": "code",
   "execution_count": 1,
   "metadata": {},
   "outputs": [
    {
     "data": {
      "text/html": [
       "<div>\n",
       "<style scoped>\n",
       "    .dataframe tbody tr th:only-of-type {\n",
       "        vertical-align: middle;\n",
       "    }\n",
       "\n",
       "    .dataframe tbody tr th {\n",
       "        vertical-align: top;\n",
       "    }\n",
       "\n",
       "    .dataframe thead th {\n",
       "        text-align: right;\n",
       "    }\n",
       "</style>\n",
       "<table border=\"1\" class=\"dataframe\">\n",
       "  <thead>\n",
       "    <tr style=\"text-align: right;\">\n",
       "      <th></th>\n",
       "      <th>video_id</th>\n",
       "      <th>trending_date</th>\n",
       "      <th>title</th>\n",
       "      <th>channel_title</th>\n",
       "      <th>category_id</th>\n",
       "      <th>publish_time</th>\n",
       "      <th>tags</th>\n",
       "      <th>views</th>\n",
       "      <th>likes</th>\n",
       "      <th>dislikes</th>\n",
       "      <th>comment_count</th>\n",
       "      <th>thumbnail_link</th>\n",
       "      <th>comments_disabled</th>\n",
       "      <th>ratings_disabled</th>\n",
       "      <th>video_error_or_removed</th>\n",
       "      <th>description</th>\n",
       "    </tr>\n",
       "  </thead>\n",
       "  <tbody>\n",
       "    <tr>\n",
       "      <th>0</th>\n",
       "      <td>n1WpP7iowLc</td>\n",
       "      <td>17.14.11</td>\n",
       "      <td>Eminem - Walk On Water (Audio) ft. Beyoncé</td>\n",
       "      <td>EminemVEVO</td>\n",
       "      <td>10</td>\n",
       "      <td>2017-11-10T17:00:03.000Z</td>\n",
       "      <td>Eminem|\"Walk\"|\"On\"|\"Water\"|\"Aftermath/Shady/In...</td>\n",
       "      <td>17158579</td>\n",
       "      <td>787425</td>\n",
       "      <td>43420</td>\n",
       "      <td>125882</td>\n",
       "      <td>https://i.ytimg.com/vi/n1WpP7iowLc/default.jpg</td>\n",
       "      <td>False</td>\n",
       "      <td>False</td>\n",
       "      <td>False</td>\n",
       "      <td>Eminem's new track Walk on Water ft. Beyoncé i...</td>\n",
       "    </tr>\n",
       "    <tr>\n",
       "      <th>1</th>\n",
       "      <td>0dBIkQ4Mz1M</td>\n",
       "      <td>17.14.11</td>\n",
       "      <td>PLUSH - Bad Unboxing Fan Mail</td>\n",
       "      <td>iDubbbzTV</td>\n",
       "      <td>23</td>\n",
       "      <td>2017-11-13T17:00:00.000Z</td>\n",
       "      <td>plush|\"bad unboxing\"|\"unboxing\"|\"fan mail\"|\"id...</td>\n",
       "      <td>1014651</td>\n",
       "      <td>127794</td>\n",
       "      <td>1688</td>\n",
       "      <td>13030</td>\n",
       "      <td>https://i.ytimg.com/vi/0dBIkQ4Mz1M/default.jpg</td>\n",
       "      <td>False</td>\n",
       "      <td>False</td>\n",
       "      <td>False</td>\n",
       "      <td>STill got a lot of packages. Probably will las...</td>\n",
       "    </tr>\n",
       "  </tbody>\n",
       "</table>\n",
       "</div>"
      ],
      "text/plain": [
       "      video_id trending_date                                       title  \\\n",
       "0  n1WpP7iowLc      17.14.11  Eminem - Walk On Water (Audio) ft. Beyoncé   \n",
       "1  0dBIkQ4Mz1M      17.14.11               PLUSH - Bad Unboxing Fan Mail   \n",
       "\n",
       "  channel_title  category_id              publish_time  \\\n",
       "0    EminemVEVO           10  2017-11-10T17:00:03.000Z   \n",
       "1     iDubbbzTV           23  2017-11-13T17:00:00.000Z   \n",
       "\n",
       "                                                tags     views   likes  \\\n",
       "0  Eminem|\"Walk\"|\"On\"|\"Water\"|\"Aftermath/Shady/In...  17158579  787425   \n",
       "1  plush|\"bad unboxing\"|\"unboxing\"|\"fan mail\"|\"id...   1014651  127794   \n",
       "\n",
       "   dislikes  comment_count                                  thumbnail_link  \\\n",
       "0     43420         125882  https://i.ytimg.com/vi/n1WpP7iowLc/default.jpg   \n",
       "1      1688          13030  https://i.ytimg.com/vi/0dBIkQ4Mz1M/default.jpg   \n",
       "\n",
       "   comments_disabled  ratings_disabled  video_error_or_removed  \\\n",
       "0              False             False                   False   \n",
       "1              False             False                   False   \n",
       "\n",
       "                                         description  \n",
       "0  Eminem's new track Walk on Water ft. Beyoncé i...  \n",
       "1  STill got a lot of packages. Probably will las...  "
      ]
     },
     "execution_count": 1,
     "metadata": {},
     "output_type": "execute_result"
    }
   ],
   "source": [
    "import pandas as pd\n",
    "#import seaborn as sns\n",
    "import numpy as np\n",
    "import matplotlib.pyplot as plt\n",
    "from datetime import datetime\n",
    "\n",
    "plt.rcParams['font.family'] = ['sans-serif']\n",
    "plt.rcParams['font.sans-serif'] = ['SimHei']\n",
    "\n",
    "df = pd.read_csv('CAvideos.csv')\n",
    "\n",
    "\n",
    "#展示数据的格式\n",
    "df.head(2)"
   ]
  },
  {
   "cell_type": "markdown",
   "metadata": {},
   "source": [
    "## 1. 数据摘要\n",
    "### 1.1 数据属性"
   ]
  },
  {
   "cell_type": "code",
   "execution_count": 2,
   "metadata": {},
   "outputs": [
    {
     "name": "stdout",
     "output_type": "stream",
     "text": [
      "<class 'pandas.core.frame.DataFrame'>\n",
      "RangeIndex: 40881 entries, 0 to 40880\n",
      "Data columns (total 16 columns):\n",
      " #   Column                  Non-Null Count  Dtype \n",
      "---  ------                  --------------  ----- \n",
      " 0   video_id                40881 non-null  object\n",
      " 1   trending_date           40881 non-null  object\n",
      " 2   title                   40881 non-null  object\n",
      " 3   channel_title           40881 non-null  object\n",
      " 4   category_id             40881 non-null  int64 \n",
      " 5   publish_time            40881 non-null  object\n",
      " 6   tags                    40881 non-null  object\n",
      " 7   views                   40881 non-null  int64 \n",
      " 8   likes                   40881 non-null  int64 \n",
      " 9   dislikes                40881 non-null  int64 \n",
      " 10  comment_count           40881 non-null  int64 \n",
      " 11  thumbnail_link          40881 non-null  object\n",
      " 12  comments_disabled       40881 non-null  bool  \n",
      " 13  ratings_disabled        40881 non-null  bool  \n",
      " 14  video_error_or_removed  40881 non-null  bool  \n",
      " 15  description             39585 non-null  object\n",
      "dtypes: bool(3), int64(5), object(8)\n",
      "memory usage: 4.2+ MB\n"
     ]
    }
   ],
   "source": [
    "# 观察数据的属性\n",
    "df.info()"
   ]
  },
  {
   "cell_type": "markdown",
   "metadata": {},
   "source": [
    "#### 整个数据有16列 其中 category_id，views，likes，dislikes ，comment_count为数值属性；comments_disabled，ratings_disabled ，video_error_or_removed  为二值属性，其余为标称属性。       \n",
    "其中每一种属性代表的意义如下：\n",
    "1. video_id:视频编号\n",
    "2. trending_date：流行日日期\n",
    "3. title：视频的标题\n",
    "4. channel_title：频道的标题\n",
    "5. category_id：种类的编号\n",
    "6. publish_time：发布的时间\n",
    "7. tags：视频的标签\n",
    "8. views：视频的浏览量\n",
    "9. likes： 视频的点赞量\n",
    "10. dislikes： 视频的点灭量\n",
    "11. comment_count： 评价的数量\n",
    "12. thumbnail_link:链接\n",
    "13. comments_disabled：是否关闭评论\n",
    "14. ratings_disabled：是否关闭评分\n",
    "15. video_error_or_removed：视频错误或者被移除\n",
    "16. description：视频描述"
   ]
  },
  {
   "cell_type": "markdown",
   "metadata": {},
   "source": [
    "### 1.2 数值属性缺失值个数"
   ]
  },
  {
   "cell_type": "code",
   "execution_count": 3,
   "metadata": {
    "scrolled": true
   },
   "outputs": [
    {
     "data": {
      "text/plain": [
       "video_id                     0\n",
       "trending_date                0\n",
       "title                        0\n",
       "channel_title                0\n",
       "category_id                  0\n",
       "publish_time                 0\n",
       "tags                         0\n",
       "views                        0\n",
       "likes                        0\n",
       "dislikes                     0\n",
       "comment_count                0\n",
       "thumbnail_link               0\n",
       "comments_disabled            0\n",
       "ratings_disabled             0\n",
       "video_error_or_removed       0\n",
       "description               1296\n",
       "dtype: int64"
      ]
     },
     "execution_count": 3,
     "metadata": {},
     "output_type": "execute_result"
    }
   ],
   "source": [
    "# 统计每一列（每一种属性）值为空的个数\n",
    "df.isna().sum()"
   ]
  },
  {
   "cell_type": "markdown",
   "metadata": {},
   "source": [
    "#### 只有description一列有空缺值，其他都没有空缺值。"
   ]
  },
  {
   "cell_type": "markdown",
   "metadata": {},
   "source": [
    "###  1.3 数值属性五数描述"
   ]
  },
  {
   "cell_type": "code",
   "execution_count": 4,
   "metadata": {},
   "outputs": [
    {
     "data": {
      "text/html": [
       "<div>\n",
       "<style scoped>\n",
       "    .dataframe tbody tr th:only-of-type {\n",
       "        vertical-align: middle;\n",
       "    }\n",
       "\n",
       "    .dataframe tbody tr th {\n",
       "        vertical-align: top;\n",
       "    }\n",
       "\n",
       "    .dataframe thead th {\n",
       "        text-align: right;\n",
       "    }\n",
       "</style>\n",
       "<table border=\"1\" class=\"dataframe\">\n",
       "  <thead>\n",
       "    <tr style=\"text-align: right;\">\n",
       "      <th></th>\n",
       "      <th>category_id</th>\n",
       "      <th>views</th>\n",
       "      <th>likes</th>\n",
       "      <th>dislikes</th>\n",
       "      <th>comment_count</th>\n",
       "    </tr>\n",
       "  </thead>\n",
       "  <tbody>\n",
       "    <tr>\n",
       "      <th>count</th>\n",
       "      <td>40881.000000</td>\n",
       "      <td>4.088100e+04</td>\n",
       "      <td>4.088100e+04</td>\n",
       "      <td>4.088100e+04</td>\n",
       "      <td>4.088100e+04</td>\n",
       "    </tr>\n",
       "    <tr>\n",
       "      <th>mean</th>\n",
       "      <td>20.795553</td>\n",
       "      <td>1.147036e+06</td>\n",
       "      <td>3.958269e+04</td>\n",
       "      <td>2.009195e+03</td>\n",
       "      <td>5.042975e+03</td>\n",
       "    </tr>\n",
       "    <tr>\n",
       "      <th>std</th>\n",
       "      <td>6.775054</td>\n",
       "      <td>3.390913e+06</td>\n",
       "      <td>1.326895e+05</td>\n",
       "      <td>1.900837e+04</td>\n",
       "      <td>2.157902e+04</td>\n",
       "    </tr>\n",
       "    <tr>\n",
       "      <th>min</th>\n",
       "      <td>1.000000</td>\n",
       "      <td>7.330000e+02</td>\n",
       "      <td>0.000000e+00</td>\n",
       "      <td>0.000000e+00</td>\n",
       "      <td>0.000000e+00</td>\n",
       "    </tr>\n",
       "    <tr>\n",
       "      <th>25%</th>\n",
       "      <td>20.000000</td>\n",
       "      <td>1.439020e+05</td>\n",
       "      <td>2.191000e+03</td>\n",
       "      <td>9.900000e+01</td>\n",
       "      <td>4.170000e+02</td>\n",
       "    </tr>\n",
       "    <tr>\n",
       "      <th>50%</th>\n",
       "      <td>24.000000</td>\n",
       "      <td>3.712040e+05</td>\n",
       "      <td>8.780000e+03</td>\n",
       "      <td>3.030000e+02</td>\n",
       "      <td>1.301000e+03</td>\n",
       "    </tr>\n",
       "    <tr>\n",
       "      <th>75%</th>\n",
       "      <td>24.000000</td>\n",
       "      <td>9.633020e+05</td>\n",
       "      <td>2.871700e+04</td>\n",
       "      <td>9.500000e+02</td>\n",
       "      <td>3.713000e+03</td>\n",
       "    </tr>\n",
       "    <tr>\n",
       "      <th>max</th>\n",
       "      <td>43.000000</td>\n",
       "      <td>1.378431e+08</td>\n",
       "      <td>5.053338e+06</td>\n",
       "      <td>1.602383e+06</td>\n",
       "      <td>1.114800e+06</td>\n",
       "    </tr>\n",
       "  </tbody>\n",
       "</table>\n",
       "</div>"
      ],
      "text/plain": [
       "        category_id         views         likes      dislikes  comment_count\n",
       "count  40881.000000  4.088100e+04  4.088100e+04  4.088100e+04   4.088100e+04\n",
       "mean      20.795553  1.147036e+06  3.958269e+04  2.009195e+03   5.042975e+03\n",
       "std        6.775054  3.390913e+06  1.326895e+05  1.900837e+04   2.157902e+04\n",
       "min        1.000000  7.330000e+02  0.000000e+00  0.000000e+00   0.000000e+00\n",
       "25%       20.000000  1.439020e+05  2.191000e+03  9.900000e+01   4.170000e+02\n",
       "50%       24.000000  3.712040e+05  8.780000e+03  3.030000e+02   1.301000e+03\n",
       "75%       24.000000  9.633020e+05  2.871700e+04  9.500000e+02   3.713000e+03\n",
       "max       43.000000  1.378431e+08  5.053338e+06  1.602383e+06   1.114800e+06"
      ]
     },
     "execution_count": 4,
     "metadata": {},
     "output_type": "execute_result"
    }
   ],
   "source": [
    "# 获取数值属性的数据统计信息，包含五数描述\n",
    "df.describe()"
   ]
  },
  {
   "cell_type": "markdown",
   "metadata": {},
   "source": [
    "### 1.4 标称属性每种类别的频数\n",
    "#### 由于总共有多种标称属性，每一种标称属性都有很多值，因此这里只展示每一个标称属性中出现频数最高的5个值。"
   ]
  },
  {
   "cell_type": "code",
   "execution_count": 5,
   "metadata": {},
   "outputs": [
    {
     "data": {
      "text/plain": [
       "17.06.12    200\n",
       "18.06.05    200\n",
       "18.21.05    200\n",
       "17.18.11    200\n",
       "18.16.05    200\n",
       "Name: trending_date, dtype: int64"
      ]
     },
     "execution_count": 5,
     "metadata": {},
     "output_type": "execute_result"
    }
   ],
   "source": [
    "#流行日期中每种类别出现的频数\n",
    "df['trending_date'].value_counts().head(5)"
   ]
  },
  {
   "cell_type": "code",
   "execution_count": 6,
   "metadata": {},
   "outputs": [
    {
     "data": {
      "text/plain": [
       "Most Popular Violin Covers of Popular Songs 2018 || Best Instrumental Violin Covers 2018             15\n",
       "Drake - God's Plan (Official Audio)                                                                  15\n",
       "Bruno Mars,Charlie Puth,Ed Sheeran Best Christmas Songs,Greatest Hits Pop Playlist Christmas 2018    13\n",
       "Deleted video                                                                                        11\n",
       "Merry Christmas 2018 - Top Christmas Songs Playlist 2018 - Best Christmas Songs Ever                 10\n",
       "Name: title, dtype: int64"
      ]
     },
     "execution_count": 6,
     "metadata": {},
     "output_type": "execute_result"
    }
   ],
   "source": [
    "#标题属性中每种类别出现的频数\n",
    "df['title'].value_counts().head(5)"
   ]
  },
  {
   "cell_type": "code",
   "execution_count": 7,
   "metadata": {},
   "outputs": [
    {
     "data": {
      "text/plain": [
       "SET India          192\n",
       "MSNBC              189\n",
       "FBE                188\n",
       "The Young Turks    186\n",
       "REACT              183\n",
       "Name: channel_title, dtype: int64"
      ]
     },
     "execution_count": 7,
     "metadata": {},
     "output_type": "execute_result"
    }
   ],
   "source": [
    "#频道标题属性中每种类别出现的频数\n",
    "df['channel_title'].value_counts().head(5)\n"
   ]
  },
  {
   "cell_type": "code",
   "execution_count": 8,
   "metadata": {},
   "outputs": [
    {
     "data": {
      "text/plain": [
       "2017-12-20T23:00:00.000Z    11\n",
       "2018-02-11T15:00:01.000Z    10\n",
       "2017-11-18T17:00:00.000Z    10\n",
       "2018-01-29T04:00:00.000Z    10\n",
       "2018-03-11T16:00:00.000Z    10\n",
       "Name: publish_time, dtype: int64"
      ]
     },
     "execution_count": 8,
     "metadata": {},
     "output_type": "execute_result"
    }
   ],
   "source": [
    "#发布时间属性中每种类别出现的频数\n",
    "df['publish_time'].value_counts().head(5)"
   ]
  },
  {
   "cell_type": "code",
   "execution_count": 9,
   "metadata": {},
   "outputs": [
    {
     "data": {
      "text/plain": [
       "[none]                                                                                                                                                                                                                   2385\n",
       "the real|\"daytime\"|\"talk show\"|\"women\"|\"tamera mowry\"|\"adrienne bailon\"|\"loni love\"|\"jeannie mai\"                                                                                                                         127\n",
       "best vines 2018|\"funny vines\"|\"funny videos\"|\"funniest videos 2018\"                                                                                                                                                       120\n",
       "Vaani rani|\"rani\"|\"Radhika in funny character\"|\"venu aravind\"|\"SunTV\"|\"VaniRani\"|\"vani\"|\"vaani\"|\"Radhika's dual role serial\"|\"Ranimma veetu kuripu\"|\"Radhika as lawyer in serial\"|\"radikaa\"|\"rathika\"|\"Radhika's new\"     116\n",
       "senegal|\"video\"|\"divertissement\"|\"humour\"|\"youssou ndour;musique\"|\"série\"|\"téléfilm\"|\"theatre\"                                                                                                                             85\n",
       "Name: tags, dtype: int64"
      ]
     },
     "execution_count": 9,
     "metadata": {},
     "output_type": "execute_result"
    }
   ],
   "source": [
    "#标签属性中每种类别出现的频数\n",
    "df['tags'].value_counts().head(5)"
   ]
  },
  {
   "cell_type": "code",
   "execution_count": 10,
   "metadata": {},
   "outputs": [
    {
     "data": {
      "text/plain": [
       "Subscribers Link: http://bit.ly/2qb69dZ\\n\\nConnect with Radaan Media online: http://bit.ly/2rGVWHT\\n\\nVisit our WEBSITE: https://www.radaan.tv\\n\\nLike us on FACEBOOK: http://bit.ly/2qLmgTm\\n\\nFollow us on TWITTER: http://bit.ly/2r8gZGD\\n\\nVAANI RANI SYNOPSIS\\nTwin sister’s Vaani and Rani get married to an elder and younger brother of the same family respectively. Vaani the elder one is a well read attorney and the younger one Rani is a failure in education with not even going beyond 10thclass. Though both have extreme ideologies of life Rani is a favorite among neighbors with her uncanny innocent approach. Vaani is a roaring lion at the court room who is looked up as a role model to so many upcoming lawyers for her advocating abilities, whereas Rani is a well versed home maker. Not only with the sisters remain with this extremity but even their respective husband’s share the same dose of luck….Vaani is a mother of 2 children and Rani has three children who are in their teens. Volcanoes of persistent problem erupts now and then between the children too since each of them pertaining to different thought process indulge in living together under one roof as a nuclear family. Their comes a stage when it becomes so difficult to keep the family values intact between the varied problems which keeps cropping making the situation even more complex.\\n\\nWill Peace ever come back in this family ?\\n\\nWill anyone give up their Ego for the betterment of the family ?\\n\\nHead of Creative’s: Radikaa Sarathkumar\\n\\nStory: Radaan Mediaworks India Ltd,\\n\\nDirection: O.N. Rathnam\\n\\nDialogue: Pa. Raghavan\\n\\nScreen play: S. Kumaresan\\n\\nCamera: Chellapandian\\n\\nTitle Song: Sathya\\n\\nRe-recording: Hari\\n\\nCast: Radikaa Sarthkumar, Venu Aravind, Babulu, Arun Kumar Rajan, Vicky, Manas, Neelima, Navya, Andrews, Sasikala, Sudha, Niranjani, Gugan, Neha, Ravikumar, Vaani, Mano, Rajkumar, Mithran, Baboos, Sangeetha Balan, Murali, Srilekha, Rajendran, Nandakumar, Joker Thulasi, Tarun Kumar, Kavithalaya Krishnan, Ramachandran, Dharani, Shamly, Sruthi, Ashagu, Nithya Ravinder\\n\\nAn Icon in Indian Cinema, a top class actress, an incredibly successful entrepreneur and a Versatile Personality R.Radikaa Sarathkumar is indeed a Woman of Substance. She was introduced by Trendsetting Tamil Director Sri. Bharathiraja in his film “Kizhake Pogum Rayil”. Then she pursued acting in Tamil, Telugu, Malayalam, Kannada and Hindi in about 300 films. She has been crowned with Six Film fare Awards, Ten Cinema express awards, Four Tamil Nadu State Awards, Two Andhra state awards, Two Malaysian Film association awards. “Indra Priyadarshini Award” for her outstanding achievement and contribution to the society on the eve of International Women’s day. She is the founder of the Radaan Mediaworks Pvt. India Limited, which has produced serials such as Chitti, Annamalai, Selvi, Arasi, Chellame, and Vaani Rani . She created Historical records by appearing and making her Television soaps “Chithi” “Arasi” and “Annamalai” . At her 18th year of Mega Serial Era, she is winning the hearts of every Tamil Households in India with the latest “Vaani Rani” a double action treat of hers.    130\n",
       "► Listen LIVE: http://power1051fm.com/\\n► Facebook: https://www.facebook.com/Power1051NY/\\n► Twitter: https://twitter.com/power1051/\\n► Instagram: https://www.instagram.com/power1051/                                                                                                                                                                                                                                                                                                                                                                                                                                                                                                                                                                                                                                                                                                                                                                                                                                                                                                                                                                                                                                                                                                                                                                                                                                                                                                                                                                                                                                                                                                                                                                                                                                                                                                                                                                                                                                                                                                                                                                                                                                                                                                                                                                                                                                                                                                                                                                                                                                                                                                                                                                                                                                                                                                                                                                                                                                                                                                                                                                                                                                                                                                                 107\n",
       "NewsONE delivers the Latest Updates, Headlines, Breaking News and Information on the latest top stories from Pakistan and around the World. (weather, business, entertainment, politics, sports and more)\\n\\nSubscribe us\\n\\nWebsite: www.newsone.tv\\nNews Alerts: www.twitter.com/newsonepk\\nNews Updates: www.facebook.com/newsonepk\\nFollow us: www.instagram.com/newsonepakistan\\nSubscribe us on Youtube and Google+: Newsonepk                                                                                                                                                                                                                                                                                                                                                                                                                                                                                                                                                                                                                                                                                                                                                                                                                                                                                                                                                                                                                                                                                                                                                                                                                                                                                                                                                                                                                                                                                                                                                                                                                                                                                                                                                                                                                                                                                                                                                                                                                                                                                                                                                                                                                                                                                                                                                                                                                                                                                                                                                                                                                                                                                                                                                                                                                                                                     90\n",
       "► Découvrez ElhiwarEttounsi : https://goo.gl/gxtCTu\\n► Abonnez-vous à la chaîne : https://goo.gl/v5Nz1p\\n► Rejoignez-nous sur Facebook: https://goo.gl/sfjrWb\\n► Abonnez-vous sur instagram : https://goo.gl/mTJlTL                                                                                                                                                                                                                                                                                                                                                                                                                                                                                                                                                                                                                                                                                                                                                                                                                                                                                                                                                                                                                                                                                                                                                                                                                                                                                                                                                                                                                                                                                                                                                                                                                                                                                                                                                                                                                                                                                                                                                                                                                                                                                                                                                                                                                                                                                                                                                                                                                                                                                                                                                                                                                                                                                                                                                                                                                                                                                                                                                                                                                                                                                      66\n",
       "Chris Smoove T-Shirts! http://chrissmoove.com/\\nSplash the like button for more NBA videos!\\nNBA 2K18 Pack Simulator! http://mtdb.com/18/packs/\\n\\nMy NBA 2017-18 Playlist! Stay up to date with the series!\\nhttp://spl.sh/2rIlJhD\\n\\nMy Website, Facebook and Twitter\\nhttp://chrissmoove.com\\nhttp://www.facebook.com/ChrisSmoove\\nhttp://twitter.com/#!/Chris_Smoove                                                                                                                                                                                                                                                                                                                                                                                                                                                                                                                                                                                                                                                                                                                                                                                                                                                                                                                                                                                                                                                                                                                                                                                                                                                                                                                                                                                                                                                                                                                                                                                                                                                                                                                                                                                                                                                                                                                                                                                                                                                                                                                                                                                                                                                                                                                                                                                                                                                                                                                                                                                                                                                                                                                                                                                                                                                                                                                                 61\n",
       "Name: description, dtype: int64"
      ]
     },
     "execution_count": 10,
     "metadata": {},
     "output_type": "execute_result"
    }
   ],
   "source": [
    "#描述中每种类别出现的频数\n",
    "df['description'].value_counts().head(5)"
   ]
  },
  {
   "cell_type": "markdown",
   "metadata": {},
   "source": [
    "### 1.5 数据可视化\n",
    "#### 整个数据有16列 其中 category_id，views，likes，dislikes ，comment_count为数值属性；comments_disabled，ratings_disabled ，video_error_or_removed 为二值属性，其余为标称属性。\n",
    "#### 1.5.1 对数值属性做直方图和盒图观察其数据分布以及离群点。"
   ]
  },
  {
   "cell_type": "code",
   "execution_count": 11,
   "metadata": {},
   "outputs": [
    {
     "data": {
      "text/plain": [
       "array([[<AxesSubplot:title={'center':'category_id'}>,\n",
       "        <AxesSubplot:title={'center':'views'}>],\n",
       "       [<AxesSubplot:title={'center':'likes'}>,\n",
       "        <AxesSubplot:title={'center':'dislikes'}>],\n",
       "       [<AxesSubplot:title={'center':'comment_count'}>, <AxesSubplot:>]],\n",
       "      dtype=object)"
      ]
     },
     "execution_count": 11,
     "metadata": {},
     "output_type": "execute_result"
    },
    {
     "data": {
      "image/png": "[encoded data removed]",
      "text/plain": [
       "<Figure size 720x720 with 6 Axes>"
      ]
     },
     "metadata": {
      "needs_background": "light"
     },
     "output_type": "display_data"
    }
   ],
   "source": [
    "#类别和点赞数，点灭数，观看数，评价数的数据分布\n",
    "df1 = df[['category_id','views','likes','dislikes','comment_count']]\n",
    "df1.hist(figsize=(10,10),bins=50)"
   ]
  },
  {
   "cell_type": "markdown",
   "metadata": {},
   "source": [
    "#### 从统计直方图来看，观看数，点赞数，点灭数，评价数都服从幂律分布。\n",
    "#### 如果将category_id按照数量排序，而不是以id排序，其分布也服从幂律分布。\n",
    "#### 1.5.2 做数值属性的盒图观察其离群点"
   ]
  },
  {
   "cell_type": "code",
   "execution_count": 12,
   "metadata": {},
   "outputs": [
    {
     "data": {
      "text/plain": [
       "category_id         AxesSubplot(0.125,0.125;0.133621x0.755)\n",
       "views            AxesSubplot(0.285345,0.125;0.133621x0.755)\n",
       "likes             AxesSubplot(0.44569,0.125;0.133621x0.755)\n",
       "dislikes         AxesSubplot(0.606034,0.125;0.133621x0.755)\n",
       "comment_count    AxesSubplot(0.766379,0.125;0.133621x0.755)\n",
       "dtype: object"
      ]
     },
     "execution_count": 12,
     "metadata": {},
     "output_type": "execute_result"
    },
    {
     "data": {
      "image/png": "[encoded data removed]",
      "text/plain": [
       "<Figure size 720x360 with 5 Axes>"
      ]
     },
     "metadata": {
      "needs_background": "light"
     },
     "output_type": "display_data"
    }
   ],
   "source": [
    "#数值属性的盒图\n",
    "df1.plot.box(figsize=(10,5),subplots=True)"
   ]
  },
  {
   "cell_type": "markdown",
   "metadata": {},
   "source": [
    "#### category_id：绝大部分位于15-30之间，30之上有一 个离群点，10之下有3个离群点。\n",
    "#### 观看数，点赞数，点灭数，评价数：均值处于下方，上方存在着很多的离群点，这些离群点代表某些视频存在少量高于数据均值的统计数据。"
   ]
  },
  {
   "cell_type": "markdown",
   "metadata": {},
   "source": [
    "#### 1.5.3 作二值属性的饼状图，观察其中每种类别的占比。"
   ]
  },
  {
   "cell_type": "code",
   "execution_count": 13,
   "metadata": {},
   "outputs": [
    {
     "data": {
      "image/png": "[encoded data removed]",
      "text/plain": [
       "<Figure size 1080x1080 with 3 Axes>"
      ]
     },
     "metadata": {},
     "output_type": "display_data"
    }
   ],
   "source": [
    "#二值属性的饼状图\n",
    "fig=plt.figure(3,figsize=(15,15))##增添画布，必须要有这一步\n",
    "fig.set(alpha=0.2)\n",
    "#是否禁止评论\n",
    "ax1=fig.add_subplot(1,3,1)  ##切割画布，并且定位画布到1行4列的第一个.plot(kind='bar', label=\"female highclass\", color='#FA2479')\n",
    "df['comments_disabled'].value_counts().plot.pie()\n",
    "\n",
    "#是否禁止评分\n",
    "ax2=fig.add_subplot(1,3,2)\n",
    "df['ratings_disabled'].value_counts().plot.pie()\n",
    "\n",
    "#视频是否有错或删除\n",
    "ax2=fig.add_subplot(1,3,3)\n",
    "df['video_error_or_removed'].value_counts().plot.pie()\n",
    "\n",
    "plt.show()"
   ]
  },
  {
   "cell_type": "markdown",
   "metadata": {},
   "source": [
    "#### 可以发现，在三个饼状图中，值为True都只占了很少一部分，说明在youtube流行视频中很少有视频禁止评论，禁止评分或者将视频删除。"
   ]
  },
  {
   "cell_type": "markdown",
   "metadata": {},
   "source": [
    "#### 1.5.4 做标称属性的直方图"
   ]
  },
  {
   "cell_type": "code",
   "execution_count": 27,
   "metadata": {},
   "outputs": [
    {
     "data": {
      "image/png": "[encoded data removed]",
      "text/plain": [
       "<Figure size 720x1440 with 4 Axes>"
      ]
     },
     "metadata": {
      "needs_background": "light"
     },
     "output_type": "display_data"
    }
   ],
   "source": [
    "#标称属性的直方图\n",
    "\n",
    "\n",
    "fig=plt.figure(5,figsize=(10,20))##增添画布，必须要有这一步\n",
    "fig.set(alpha=0.2)\n",
    "ax1=fig.add_subplot(3,2,1)  ##切割画布，并且定位画布到1行4列的第一个.plot(kind='bar', label=\"female highclass\", color='#FA2479')\n",
    "df['trending_date'].value_counts().head(10).plot(kind='bar')\n",
    "\n",
    "\n",
    "ax2=fig.add_subplot(3,2,2)\n",
    "df['title'].value_counts().head(10).plot(kind='bar')\n",
    "\n",
    "ax3=fig.add_subplot(3,2,3)\n",
    "df['channel_title'].value_counts().head(10).plot(kind='bar')\n",
    "\n",
    "ax4=fig.add_subplot(3,2,4)\n",
    "df['publish_time'].value_counts().head(10).plot(kind='bar')\n",
    "\n",
    "# ax5=fig.add_subplot(3,2,5)\n",
    "# df['tags'].value_counts().head(10).plot(kind='bar')\n",
    "\n",
    "\n",
    "plt.show()"
   ]
  },
  {
   "cell_type": "markdown",
   "metadata": {},
   "source": [
    "## 2. 数据缺失处理\n",
    "### 2.1观察缺失数据，分析缺失原因。"
   ]
  },
  {
   "cell_type": "code",
   "execution_count": 15,
   "metadata": {},
   "outputs": [
    {
     "data": {
      "text/plain": [
       "video_id                     0\n",
       "trending_date                0\n",
       "title                        0\n",
       "channel_title                0\n",
       "category_id                  0\n",
       "publish_time                 0\n",
       "tags                         0\n",
       "views                        0\n",
       "likes                        0\n",
       "dislikes                     0\n",
       "comment_count                0\n",
       "thumbnail_link               0\n",
       "comments_disabled            0\n",
       "ratings_disabled             0\n",
       "video_error_or_removed       0\n",
       "description               1296\n",
       "dtype: int64"
      ]
     },
     "execution_count": 15,
     "metadata": {},
     "output_type": "execute_result"
    }
   ],
   "source": [
    "#检查每一列缺失值的个数\n",
    "df.isna().sum()"
   ]
  },
  {
   "cell_type": "markdown",
   "metadata": {},
   "source": [
    "#### 数据中仅有description字段发生缺失，这是由于其他属性都是一个视频所必须含有的，而描述属性可能是可选的。\n"
   ]
  },
  {
   "cell_type": "markdown",
   "metadata": {},
   "source": [
    "### 2.2 将缺失部分剔除"
   ]
  },
  {
   "cell_type": "code",
   "execution_count": 16,
   "metadata": {},
   "outputs": [
    {
     "data": {
      "text/html": [
       "<div>\n",
       "<style scoped>\n",
       "    .dataframe tbody tr th:only-of-type {\n",
       "        vertical-align: middle;\n",
       "    }\n",
       "\n",
       "    .dataframe tbody tr th {\n",
       "        vertical-align: top;\n",
       "    }\n",
       "\n",
       "    .dataframe thead th {\n",
       "        text-align: right;\n",
       "    }\n",
       "</style>\n",
       "<table border=\"1\" class=\"dataframe\">\n",
       "  <thead>\n",
       "    <tr style=\"text-align: right;\">\n",
       "      <th></th>\n",
       "      <th>category_id</th>\n",
       "      <th>views</th>\n",
       "      <th>likes</th>\n",
       "      <th>dislikes</th>\n",
       "      <th>comment_count</th>\n",
       "    </tr>\n",
       "  </thead>\n",
       "  <tbody>\n",
       "    <tr>\n",
       "      <th>count</th>\n",
       "      <td>40881.000000</td>\n",
       "      <td>4.088100e+04</td>\n",
       "      <td>4.088100e+04</td>\n",
       "      <td>4.088100e+04</td>\n",
       "      <td>4.088100e+04</td>\n",
       "    </tr>\n",
       "    <tr>\n",
       "      <th>mean</th>\n",
       "      <td>20.795553</td>\n",
       "      <td>1.147036e+06</td>\n",
       "      <td>3.958269e+04</td>\n",
       "      <td>2.009195e+03</td>\n",
       "      <td>5.042975e+03</td>\n",
       "    </tr>\n",
       "    <tr>\n",
       "      <th>std</th>\n",
       "      <td>6.775054</td>\n",
       "      <td>3.390913e+06</td>\n",
       "      <td>1.326895e+05</td>\n",
       "      <td>1.900837e+04</td>\n",
       "      <td>2.157902e+04</td>\n",
       "    </tr>\n",
       "    <tr>\n",
       "      <th>min</th>\n",
       "      <td>1.000000</td>\n",
       "      <td>7.330000e+02</td>\n",
       "      <td>0.000000e+00</td>\n",
       "      <td>0.000000e+00</td>\n",
       "      <td>0.000000e+00</td>\n",
       "    </tr>\n",
       "    <tr>\n",
       "      <th>25%</th>\n",
       "      <td>20.000000</td>\n",
       "      <td>1.439020e+05</td>\n",
       "      <td>2.191000e+03</td>\n",
       "      <td>9.900000e+01</td>\n",
       "      <td>4.170000e+02</td>\n",
       "    </tr>\n",
       "    <tr>\n",
       "      <th>50%</th>\n",
       "      <td>24.000000</td>\n",
       "      <td>3.712040e+05</td>\n",
       "      <td>8.780000e+03</td>\n",
       "      <td>3.030000e+02</td>\n",
       "      <td>1.301000e+03</td>\n",
       "    </tr>\n",
       "    <tr>\n",
       "      <th>75%</th>\n",
       "      <td>24.000000</td>\n",
       "      <td>9.633020e+05</td>\n",
       "      <td>2.871700e+04</td>\n",
       "      <td>9.500000e+02</td>\n",
       "      <td>3.713000e+03</td>\n",
       "    </tr>\n",
       "    <tr>\n",
       "      <th>max</th>\n",
       "      <td>43.000000</td>\n",
       "      <td>1.378431e+08</td>\n",
       "      <td>5.053338e+06</td>\n",
       "      <td>1.602383e+06</td>\n",
       "      <td>1.114800e+06</td>\n",
       "    </tr>\n",
       "  </tbody>\n",
       "</table>\n",
       "</div>"
      ],
      "text/plain": [
       "        category_id         views         likes      dislikes  comment_count\n",
       "count  40881.000000  4.088100e+04  4.088100e+04  4.088100e+04   4.088100e+04\n",
       "mean      20.795553  1.147036e+06  3.958269e+04  2.009195e+03   5.042975e+03\n",
       "std        6.775054  3.390913e+06  1.326895e+05  1.900837e+04   2.157902e+04\n",
       "min        1.000000  7.330000e+02  0.000000e+00  0.000000e+00   0.000000e+00\n",
       "25%       20.000000  1.439020e+05  2.191000e+03  9.900000e+01   4.170000e+02\n",
       "50%       24.000000  3.712040e+05  8.780000e+03  3.030000e+02   1.301000e+03\n",
       "75%       24.000000  9.633020e+05  2.871700e+04  9.500000e+02   3.713000e+03\n",
       "max       43.000000  1.378431e+08  5.053338e+06  1.602383e+06   1.114800e+06"
      ]
     },
     "execution_count": 16,
     "metadata": {},
     "output_type": "execute_result"
    }
   ],
   "source": [
    "df_drop = df.dropna()\n",
    "# #删除前数值属性数据描述\n",
    "df.describe()"
   ]
  },
  {
   "cell_type": "code",
   "execution_count": 17,
   "metadata": {},
   "outputs": [
    {
     "data": {
      "text/html": [
       "<div>\n",
       "<style scoped>\n",
       "    .dataframe tbody tr th:only-of-type {\n",
       "        vertical-align: middle;\n",
       "    }\n",
       "\n",
       "    .dataframe tbody tr th {\n",
       "        vertical-align: top;\n",
       "    }\n",
       "\n",
       "    .dataframe thead th {\n",
       "        text-align: right;\n",
       "    }\n",
       "</style>\n",
       "<table border=\"1\" class=\"dataframe\">\n",
       "  <thead>\n",
       "    <tr style=\"text-align: right;\">\n",
       "      <th></th>\n",
       "      <th>category_id</th>\n",
       "      <th>views</th>\n",
       "      <th>likes</th>\n",
       "      <th>dislikes</th>\n",
       "      <th>comment_count</th>\n",
       "    </tr>\n",
       "  </thead>\n",
       "  <tbody>\n",
       "    <tr>\n",
       "      <th>count</th>\n",
       "      <td>39585.000000</td>\n",
       "      <td>3.958500e+04</td>\n",
       "      <td>3.958500e+04</td>\n",
       "      <td>3.958500e+04</td>\n",
       "      <td>3.958500e+04</td>\n",
       "    </tr>\n",
       "    <tr>\n",
       "      <th>mean</th>\n",
       "      <td>20.778123</td>\n",
       "      <td>1.169234e+06</td>\n",
       "      <td>4.059694e+04</td>\n",
       "      <td>2.058693e+03</td>\n",
       "      <td>5.159716e+03</td>\n",
       "    </tr>\n",
       "    <tr>\n",
       "      <th>std</th>\n",
       "      <td>6.808714</td>\n",
       "      <td>3.437842e+06</td>\n",
       "      <td>1.345967e+05</td>\n",
       "      <td>1.931258e+04</td>\n",
       "      <td>2.189959e+04</td>\n",
       "    </tr>\n",
       "    <tr>\n",
       "      <th>min</th>\n",
       "      <td>1.000000</td>\n",
       "      <td>7.330000e+02</td>\n",
       "      <td>0.000000e+00</td>\n",
       "      <td>0.000000e+00</td>\n",
       "      <td>0.000000e+00</td>\n",
       "    </tr>\n",
       "    <tr>\n",
       "      <th>25%</th>\n",
       "      <td>20.000000</td>\n",
       "      <td>1.497150e+05</td>\n",
       "      <td>2.395000e+03</td>\n",
       "      <td>1.040000e+02</td>\n",
       "      <td>4.420000e+02</td>\n",
       "    </tr>\n",
       "    <tr>\n",
       "      <th>50%</th>\n",
       "      <td>24.000000</td>\n",
       "      <td>3.831200e+05</td>\n",
       "      <td>9.244000e+03</td>\n",
       "      <td>3.140000e+02</td>\n",
       "      <td>1.357000e+03</td>\n",
       "    </tr>\n",
       "    <tr>\n",
       "      <th>75%</th>\n",
       "      <td>24.000000</td>\n",
       "      <td>9.831390e+05</td>\n",
       "      <td>2.967000e+04</td>\n",
       "      <td>9.760000e+02</td>\n",
       "      <td>3.821000e+03</td>\n",
       "    </tr>\n",
       "    <tr>\n",
       "      <th>max</th>\n",
       "      <td>43.000000</td>\n",
       "      <td>1.378431e+08</td>\n",
       "      <td>5.053338e+06</td>\n",
       "      <td>1.602383e+06</td>\n",
       "      <td>1.114800e+06</td>\n",
       "    </tr>\n",
       "  </tbody>\n",
       "</table>\n",
       "</div>"
      ],
      "text/plain": [
       "        category_id         views         likes      dislikes  comment_count\n",
       "count  39585.000000  3.958500e+04  3.958500e+04  3.958500e+04   3.958500e+04\n",
       "mean      20.778123  1.169234e+06  4.059694e+04  2.058693e+03   5.159716e+03\n",
       "std        6.808714  3.437842e+06  1.345967e+05  1.931258e+04   2.189959e+04\n",
       "min        1.000000  7.330000e+02  0.000000e+00  0.000000e+00   0.000000e+00\n",
       "25%       20.000000  1.497150e+05  2.395000e+03  1.040000e+02   4.420000e+02\n",
       "50%       24.000000  3.831200e+05  9.244000e+03  3.140000e+02   1.357000e+03\n",
       "75%       24.000000  9.831390e+05  2.967000e+04  9.760000e+02   3.821000e+03\n",
       "max       43.000000  1.378431e+08  5.053338e+06  1.602383e+06   1.114800e+06"
      ]
     },
     "execution_count": 17,
     "metadata": {},
     "output_type": "execute_result"
    }
   ],
   "source": [
    "df_drop.describe()"
   ]
  },
  {
   "cell_type": "markdown",
   "metadata": {},
   "source": [
    "#### 删除含有缺失值的行后，总的记录条数从40881条降至39585条，删除后的视频的观看数，点赞数，点灭数，评论数都比删除前要高。这说明删除那些没有描述的视频能够提升整体视频的质量。\n",
    "#### 对比将缺失值删除前后的数值属性数值分布："
   ]
  },
  {
   "cell_type": "code",
   "execution_count": 18,
   "metadata": {},
   "outputs": [
    {
     "data": {
      "text/plain": [
       "<AxesSubplot:ylabel='Frequency'>"
      ]
     },
     "execution_count": 18,
     "metadata": {},
     "output_type": "execute_result"
    },
    {
     "data": {
      "image/png": "[encoded data removed]",
      "text/plain": [
       "<Figure size 432x288 with 1 Axes>"
      ]
     },
     "metadata": {
      "needs_background": "light"
     },
     "output_type": "display_data"
    }
   ],
   "source": [
    "frames = [df['views'],df_drop['views']]\n",
    "result = pd.concat(frames, axis=1)\n",
    "\n",
    "result.plot.hist(alpha=0.5,bins=50)"
   ]
  },
  {
   "cell_type": "markdown",
   "metadata": {},
   "source": [
    "#### 上图为删除空缺值前后的category_id数据分布对比，可以看出删除空缺值后，记录数量变少，整体的数据分布并没有发生太大变化。"
   ]
  },
  {
   "cell_type": "markdown",
   "metadata": {},
   "source": [
    "### 2.3 用最高频率值来填补缺失值"
   ]
  },
  {
   "cell_type": "code",
   "execution_count": 19,
   "metadata": {},
   "outputs": [
    {
     "data": {
      "text/plain": [
       "{'description': 0    Subscribers Link: http://bit.ly/2qb69dZ\\n\\nCon...\n",
       " dtype: object}"
      ]
     },
     "execution_count": 19,
     "metadata": {},
     "output_type": "execute_result"
    }
   ],
   "source": [
    "#利用每一列最多的值来填充每一列中的空缺值。\n",
    "value={'description':df.description.mode()} \n",
    "df_fill_mode = df.fillna(value)\n",
    "value"
   ]
  },
  {
   "cell_type": "markdown",
   "metadata": {},
   "source": [
    "### 2.4 通过属性的相关关系来填补缺失值\n",
    "#### 如果视频的描述空缺，我们可以考虑使用视频的title来填充视频的描述。"
   ]
  },
  {
   "cell_type": "code",
   "execution_count": 20,
   "metadata": {},
   "outputs": [
    {
     "data": {
      "text/plain": [
       "0"
      ]
     },
     "execution_count": 20,
     "metadata": {},
     "output_type": "execute_result"
    }
   ],
   "source": [
    "df_fill_title = df['description'].fillna(df['title'])\n",
    "df_fill_title.isna().sum()"
   ]
  },
  {
   "cell_type": "markdown",
   "metadata": {},
   "source": [
    "### 2.5 通过数据对象之间的相似性来填补缺失值"
   ]
  },
  {
   "cell_type": "code",
   "execution_count": 21,
   "metadata": {},
   "outputs": [
    {
     "data": {
      "text/plain": [
       "0"
      ]
     },
     "execution_count": 21,
     "metadata": {},
     "output_type": "execute_result"
    }
   ],
   "source": [
    "#可以通郭categry_id的距离找到最相似的视频，然后用该视频的description来填充空缺的description。\n",
    "\n",
    "# #找出最相近的数据，并将其的价格返回\n",
    "def most_similar(x,df):\n",
    "\n",
    "    for item in  df['category_id'].values:\n",
    "        if x.category_id  == item:\n",
    "            return df[df['category_id']== item].description.mode()\n",
    "        else:\n",
    "            return ''\n",
    "\n",
    "df_fill_similarity = df\n",
    "\n",
    "df_fill_similarity['similar_description'] = df_fill_similarity.apply(lambda x: most_similar(x,df),axis=1)\n",
    "\n",
    "df_fill_similarity = df_fill_similarity['description'].fillna(df_fill_similarity['similar_description'])\n",
    "\n",
    "df_fill_similarity.isna().sum()"
   ]
  },
  {
   "cell_type": "code",
   "execution_count": null,
   "metadata": {},
   "outputs": [],
   "source": []
  }
 ],
 "metadata": {
  "kernelspec": {
   "display_name": "Python 3",
   "language": "python",
   "name": "python3"
  },
  "language_info": {
   "codemirror_mode": {
    "name": "ipython",
    "version": 3
   },
   "file_extension": ".py",
   "mimetype": "text/x-python",
   "name": "python",
   "nbconvert_exporter": "python",
   "pygments_lexer": "ipython3",
   "version": "3.8.5"
  }
 },
 "nbformat": 4,
 "nbformat_minor": 4
}
